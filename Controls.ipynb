{
 "cells": [
  {
   "cell_type": "markdown",
   "metadata": {},
   "source": [
    "# System Controls\n",
    "\n",
    "\n",
    "## Overview\n",
    "\n",
    "### Clasical Control\n",
    "Input-Output approach\n",
    "#### Block Diagram\n",
    "![Block Diagram](img/Procces.PNG)\n",
    "\n",
    "example \n",
    "$$ m \\ddot{y} + c \\dot{y} + ky = u(t) $$\n",
    "\n",
    "$$ \\mathcal{L} \\big\\{y(t)\\big\\}=\\text{Y}(s) \\quad \\mathcal{L} \\big\\{u(t)\\big\\}=\\text{U}(s) $$\n",
    "$$ \\text{Y} \\: is \\: \\text{Output} \\quad \\text{U} \\: is \\: \\text{Input}$$\n",
    "\n",
    "$$ ms^2\\text{Y}+cs\\text{Y}+k\\text{Y}=\\text{U}  $$\n",
    "$$ (ms^2+cs+k)\\text{Y}=\\text{U}  \\rightarrow  \\text{Y}= \\frac{1}{ms^2+cs+k} \\text{U}$$\n",
    "In controls, $s$ is called the frequency and in the frequency domain.  This is from physics point of view, by convention.  Frequency is only part of it, as $s$ is really a complex variable.\n",
    "\n",
    "Transfer Function (TF, $\\text{G}$, $\\text{H}$) $\\quad\\text{G}(s) = \\frac{1}{ms^2+cs+k} = \\frac{\\text{Y(s)}(s)} {\\text{U}(s)} = \\frac{\\text{Output}}{\\text{Input}}$\n",
    "\n",
    "If you solve using time domain $t$, than you solve a differential equation.\n",
    "If you solve using frequency domain $s$, than you solve an algebraic equation.\n",
    "\n",
    "After solving algebraic eqution, you do Inverse LAplace Transform\n",
    "$$\\text{Y}(s) = \\text{G}(s)\\text{U}(s)  \\quad y(t)=\\mathcal{L}^{-1}\\big\\{\\text{Y}(s)\\big\\}$$\n",
    "\n",
    "\n",
    "$u(t) \\rightarrow | \\; g(t) \\;| \\rightarrow y(t)$\n",
    "\n",
    "\n",
    "### Modern Control\n",
    "State-Space approach\n",
    "\n",
    "$$u: \\text{input}, \\quad y: \\text{output}, \\quad x: \\text{state variable}$$\n",
    "\n",
    "$$\\dot{x} = \\text{A}x+\\text{B}u$$\n",
    "$$y = \\text{C}x+\\text{D}u$$\n",
    "\n"
   ]
  },
  {
   "cell_type": "markdown",
   "metadata": {},
   "source": [
    "SISO: Single Input Single Output <br>\n",
    "SIMO: Single Input Multiple Output <br>\n",
    "MUSO: Multiple Input Single Output <br>\n",
    "MIMO: Multiple Input Mutliple Output <br>\n",
    "\n",
    "p is input vector (u1(t), u2(t), ...) <br>\n",
    "q is output vector (y1(t), y2(t), ...) <br>\n",
    "\n"
   ]
  },
  {
   "cell_type": "markdown",
   "metadata": {},
   "source": []
  }
 ],
 "metadata": {
  "kernelspec": {
   "display_name": "Python 3",
   "language": "python",
   "name": "python3"
  },
  "language_info": {
   "codemirror_mode": {
    "name": "ipython",
    "version": 3
   },
   "file_extension": ".py",
   "mimetype": "text/x-python",
   "name": "python",
   "nbconvert_exporter": "python",
   "pygments_lexer": "ipython3",
   "version": "3.5.3"
  }
 },
 "nbformat": 4,
 "nbformat_minor": 2
}
